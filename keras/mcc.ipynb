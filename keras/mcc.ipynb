{
 "cells": [
  {
   "cell_type": "code",
   "execution_count": 3,
   "metadata": {},
   "outputs": [],
   "source": [
    "import numpy as np\n",
    "import pandas as pd\n",
    "\n",
    "\n",
    "vehicle_path = 'data/vehicles_students_anonymized.csv'\n",
    "vehicle_df = pd.read_csv(vehicle_path)\n",
    "\n",
    "options_lst = list(vehicle_df['OptionalEquipment'].apply(lambda x: x.strip('[').strip(']').split(', ')).values)\n",
    "all_options_lst = list(set([option for options in options_lst for option in options]))\n",
    "options_binarized = np.array([[1 if option in options else 0 for option in all_options_lst] for options in options_lst])"
   ]
  }
 ],
 "metadata": {
  "kernelspec": {
   "display_name": "Data_Science",
   "language": "python",
   "name": "python3"
  },
  "language_info": {
   "codemirror_mode": {
    "name": "ipython",
    "version": 3
   },
   "file_extension": ".py",
   "mimetype": "text/x-python",
   "name": "python",
   "nbconvert_exporter": "python",
   "pygments_lexer": "ipython3",
   "version": "3.11.2"
  }
 },
 "nbformat": 4,
 "nbformat_minor": 2
}
