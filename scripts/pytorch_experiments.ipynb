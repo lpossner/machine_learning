{
 "cells": [
  {
   "cell_type": "code",
   "execution_count": 50,
   "metadata": {},
   "outputs": [],
   "source": [
    "import torch\n",
    "import torch.nn as nn"
   ]
  },
  {
   "cell_type": "code",
   "execution_count": 51,
   "metadata": {},
   "outputs": [
    {
     "name": "stdout",
     "output_type": "stream",
     "text": [
      "False\n",
      "False\n",
      "True\n",
      "True\n",
      "True\n",
      "True\n",
      "tensor([4.])\n",
      "tensor([3.])\n"
     ]
    }
   ],
   "source": [
    "a = torch.Tensor([3])\n",
    "b = torch.Tensor([4])\n",
    "\n",
    "print(a.requires_grad)\n",
    "print(b.requires_grad)\n",
    "\n",
    "a.requires_grad_()\n",
    "b.requires_grad_()\n",
    "\n",
    "print(a.requires_grad)\n",
    "print(b.requires_grad)\n",
    "\n",
    "a = a.requires_grad_()\n",
    "b = b.requires_grad_()\n",
    "\n",
    "print(a.requires_grad)\n",
    "print(b.requires_grad)\n",
    "\n",
    "c = a * b\n",
    "c.backward()\n",
    "\n",
    "print(a.grad)\n",
    "print(b.grad)"
   ]
  },
  {
   "cell_type": "code",
   "execution_count": 52,
   "metadata": {},
   "outputs": [
    {
     "name": "stdout",
     "output_type": "stream",
     "text": [
      "tensor([20.])\n",
      "tensor([15.])\n",
      "tensor([12.])\n"
     ]
    }
   ],
   "source": [
    "a = torch.Tensor([3])\n",
    "b = torch.Tensor([4])\n",
    "c = torch.Tensor([5])\n",
    "\n",
    "a.requires_grad_()\n",
    "b.requires_grad_()\n",
    "c.requires_grad_()\n",
    "\n",
    "d = a * b\n",
    "e = c * d\n",
    "\n",
    "e.backward()\n",
    "\n",
    "print(a.grad)\n",
    "print(b.grad)\n",
    "print(c.grad)"
   ]
  },
  {
   "cell_type": "code",
   "execution_count": 53,
   "metadata": {},
   "outputs": [
    {
     "name": "stdout",
     "output_type": "stream",
     "text": [
      "(tensor([20.], grad_fn=<MulBackward0>), tensor([15.], grad_fn=<MulBackward0>))\n",
      "None\n",
      "None\n",
      "None\n",
      "(tensor([4.], grad_fn=<MulBackward0>), tensor([3.], grad_fn=<MulBackward0>))\n",
      "None\n",
      "None\n",
      "None\n",
      "(tensor([8.], grad_fn=<MulBackward0>), tensor([6.], grad_fn=<MulBackward0>))\n",
      "None\n",
      "None\n",
      "None\n"
     ]
    }
   ],
   "source": [
    "a = torch.Tensor([3])\n",
    "b = torch.Tensor([4])\n",
    "c = torch.Tensor([5])\n",
    "\n",
    "a.requires_grad_()\n",
    "b.requires_grad_()\n",
    "c.requires_grad_()\n",
    "\n",
    "d = a * b\n",
    "e = c * d\n",
    "\n",
    "gradients = torch.autograd.grad(\n",
    "    outputs=e,\n",
    "    inputs=[a, b],\n",
    "    create_graph=True,\n",
    "    retain_graph=True,\n",
    ")\n",
    "print(gradients)\n",
    "print(a.grad)\n",
    "print(b.grad)\n",
    "print(c.grad)\n",
    "\n",
    "gradients = torch.autograd.grad(\n",
    "    outputs=d,\n",
    "    inputs=[a, b],\n",
    "    grad_outputs=torch.ones(size=c.size()),\n",
    "    create_graph=True,\n",
    "    retain_graph=True,\n",
    ")\n",
    "print(gradients)\n",
    "print(a.grad)\n",
    "print(b.grad)\n",
    "print(c.grad)\n",
    "\n",
    "gradients = torch.autograd.grad(\n",
    "    outputs=d,\n",
    "    inputs=[a, b],\n",
    "    grad_outputs=2*torch.ones(size=c.size()),\n",
    "    create_graph=True,\n",
    "    retain_graph=True,\n",
    ")\n",
    "print(gradients)\n",
    "print(a.grad)\n",
    "print(b.grad)\n",
    "print(c.grad)"
   ]
  },
  {
   "cell_type": "code",
   "execution_count": 54,
   "metadata": {},
   "outputs": [
    {
     "name": "stdout",
     "output_type": "stream",
     "text": [
      "tensor([20.])\n",
      "tensor([15.])\n",
      "tensor([12.])\n"
     ]
    }
   ],
   "source": [
    "a = torch.Tensor([3])\n",
    "b = torch.Tensor([4])\n",
    "c = torch.Tensor([5])\n",
    "\n",
    "a.requires_grad_()\n",
    "b.requires_grad_()\n",
    "c.requires_grad_()\n",
    "\n",
    "d = a * b\n",
    "e = c * d\n",
    "\n",
    "torch.autograd.backward(tensors=e)\n",
    "\n",
    "print(a.grad)\n",
    "print(b.grad)\n",
    "print(c.grad)"
   ]
  },
  {
   "cell_type": "code",
   "execution_count": 55,
   "metadata": {},
   "outputs": [
    {
     "name": "stdout",
     "output_type": "stream",
     "text": [
      "Network(\n",
      "  (network): Sequential(\n",
      "    (0): Linear(in_features=10, out_features=64, bias=True)\n",
      "    (1): LeakyReLU(negative_slope=0.2, inplace=True)\n",
      "    (2): Linear(in_features=64, out_features=3, bias=True)\n",
      "    (3): LeakyReLU(negative_slope=0.2, inplace=True)\n",
      "  )\n",
      ")\n",
      "torch.Size([64, 10])\n",
      "torch.Size([64])\n",
      "torch.Size([3, 64])\n",
      "torch.Size([3])\n"
     ]
    }
   ],
   "source": [
    "import torch\n",
    "import torch.nn as nn\n",
    "import torch.optim as optim\n",
    "import torch.nn.functional as F\n",
    "\n",
    "\n",
    "class Network(nn.Module):\n",
    "\n",
    "    def __init__(self, input_size, hidden_size, output_size):\n",
    "        super(Network, self).__init__()\n",
    "        self.network = nn.Sequential(\n",
    "             nn.Linear(input_size, hidden_size),\n",
    "             nn.LeakyReLU(negative_slope=0.2, inplace=True),\n",
    "             nn.Linear(hidden_size, output_size),\n",
    "             nn.LeakyReLU(negative_slope=0.2, inplace=True)\n",
    "        )\n",
    "\n",
    "    def forward(self, x):\n",
    "        return self.network(x)\n",
    "\n",
    "batch_size = 256\n",
    "input_size = 10   \n",
    "hidden_size = 64   \n",
    "output_size = 3 \n",
    "\n",
    "x = torch.randn(batch_size, input_size)\n",
    "target= torch.randn(batch_size, output_size)\n",
    "\n",
    "model = Network(input_size, hidden_size, output_size)\n",
    "print(model)\n",
    "\n",
    "criterion = nn.MSELoss()\n",
    "\n",
    "output = model(x)\n",
    "loss = criterion(output, target)\n",
    "\n",
    "loss.backward()\n",
    "\n",
    "output = model(x)\n",
    "loss = criterion(output, target)\n",
    "\n",
    "loss.backward()\n",
    "\n",
    "for parameter in model.parameters():\n",
    "    print(parameter.grad.shape)"
   ]
  },
  {
   "cell_type": "code",
   "execution_count": 56,
   "metadata": {},
   "outputs": [
    {
     "name": "stdout",
     "output_type": "stream",
     "text": [
      "torch.Size([256, 140, 1, 1])\n",
      "torch.Size([256, 1024, 4, 4])\n",
      "torch.Size([256, 512, 8, 8])\n",
      "torch.Size([256, 256, 16, 16])\n",
      "torch.Size([256, 128, 32, 32])\n",
      "torch.Size([256, 3, 64, 64])\n"
     ]
    }
   ],
   "source": [
    "image_size = 64\n",
    "num_colors = 3\n",
    "batch_size = 256\n",
    "gen_hidden_dim = 128\n",
    "label_dim = 40\n",
    "latent_dim = 100\n",
    "input_dim = latent_dim + label_dim\n",
    "\n",
    "layer1 = nn.ConvTranspose2d(in_channels=input_dim, out_channels=gen_hidden_dim * 8, kernel_size=4, stride=1, padding=0)\n",
    "layer2 = nn.ConvTranspose2d(in_channels=gen_hidden_dim * 8, out_channels=gen_hidden_dim * 4, kernel_size=4, stride=2, padding=1)\n",
    "layer3 = nn.ConvTranspose2d(in_channels=gen_hidden_dim * 4, out_channels=gen_hidden_dim * 2, kernel_size=4, stride=2, padding=1)\n",
    "layer4 = nn.ConvTranspose2d(in_channels=gen_hidden_dim * 2, out_channels=gen_hidden_dim, kernel_size=4, stride=2, padding=1)\n",
    "layer5 = nn.ConvTranspose2d(in_channels=gen_hidden_dim, out_channels=num_colors, kernel_size=4, stride=2, padding=1)\n",
    "\n",
    "x = torch.rand(size=(batch_size, input_dim))\n",
    "x = x.view(x.size(0), x.size(1), 1, 1)\n",
    "print(x.shape)\n",
    "\n",
    "y1 = layer1(x)\n",
    "print(y1.shape)\n",
    "\n",
    "y2 = layer2(y1)\n",
    "print(y2.shape)\n",
    "\n",
    "y3 = layer3(y2)\n",
    "print(y3.shape)\n",
    "\n",
    "y4 = layer4(y3)\n",
    "print(y4.shape)\n",
    "\n",
    "y5 = layer5(y4)\n",
    "print(y5.shape)"
   ]
  },
  {
   "cell_type": "code",
   "execution_count": 57,
   "metadata": {},
   "outputs": [
    {
     "name": "stdout",
     "output_type": "stream",
     "text": [
      "torch.Size([256, 43, 64, 64])\n",
      "torch.Size([256, 128, 32, 32])\n",
      "torch.Size([256, 256, 16, 16])\n",
      "torch.Size([256, 512, 8, 8])\n",
      "torch.Size([256, 1024, 4, 4])\n",
      "torch.Size([256, 1, 1, 1])\n"
     ]
    }
   ],
   "source": [
    "image_size = 64\n",
    "num_colors = 3\n",
    "label_dim = 40\n",
    "dis_hidden_dim = 128\n",
    "batch_size = 256\n",
    "input_dim = label_dim + num_colors\n",
    "\n",
    "layer1 = nn.Sequential(\n",
    "    nn.Conv2d(in_channels=input_dim, out_channels=dis_hidden_dim, kernel_size=4, stride=2, padding=1),\n",
    "    nn.LeakyReLU(negative_slope=0.2, inplace=True),\n",
    ")\n",
    "\n",
    "layer2 = nn.Sequential(\n",
    "    nn.Conv2d(in_channels=dis_hidden_dim, out_channels=dis_hidden_dim * 2, kernel_size=4, stride=2, padding=1),\n",
    "    nn.LeakyReLU(negative_slope=0.2, inplace=True),\n",
    ")\n",
    "\n",
    "layer3 = nn.Sequential(\n",
    "    nn.Conv2d(in_channels=dis_hidden_dim * 2, out_channels=dis_hidden_dim * 4, kernel_size=4, stride=2, padding=1),\n",
    "    nn.LeakyReLU(negative_slope=0.2, inplace=True),\n",
    ")\n",
    "\n",
    "layer4 = nn.Sequential(\n",
    "    nn.Conv2d(in_channels=dis_hidden_dim * 4, out_channels=dis_hidden_dim * 8, kernel_size=4, stride=2, padding=1),\n",
    "    nn.LeakyReLU(negative_slope=0.2, inplace=True),\n",
    ")\n",
    "\n",
    "layer5 = nn.Sequential(\n",
    "    nn.Conv2d(in_channels=dis_hidden_dim * 8, out_channels=1, kernel_size=4, stride=1, padding=0),\n",
    "    nn.LeakyReLU(negative_slope=0.2, inplace=True)\n",
    ")\n",
    "\n",
    "x = torch.rand(size=(batch_size, input_dim, image_size, image_size))\n",
    "print(x.shape)\n",
    "\n",
    "y1 = layer1(x)\n",
    "print(y1.shape)\n",
    "\n",
    "y2 = layer2(y1)\n",
    "print(y2.shape)\n",
    "\n",
    "y3 = layer3(y2)\n",
    "print(y3.shape)\n",
    "\n",
    "y4 = layer4(y3)\n",
    "print(y4.shape)\n",
    "\n",
    "y5 = layer5(y4)\n",
    "print(y5.shape)"
   ]
  },
  {
   "cell_type": "code",
   "execution_count": null,
   "metadata": {},
   "outputs": [],
   "source": []
  }
 ],
 "metadata": {
  "kernelspec": {
   "display_name": "machine_learning",
   "language": "python",
   "name": "python3"
  },
  "language_info": {
   "codemirror_mode": {
    "name": "ipython",
    "version": 3
   },
   "file_extension": ".py",
   "mimetype": "text/x-python",
   "name": "python",
   "nbconvert_exporter": "python",
   "pygments_lexer": "ipython3",
   "version": "3.12.0"
  }
 },
 "nbformat": 4,
 "nbformat_minor": 2
}
