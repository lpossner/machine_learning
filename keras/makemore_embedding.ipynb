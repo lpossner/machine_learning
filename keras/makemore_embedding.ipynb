{
 "cells": [
  {
   "cell_type": "code",
   "execution_count": 1,
   "metadata": {},
   "outputs": [],
   "source": [
    "with open('data/makemore/names.txt', mode='rt', encoding=\"utf-8\") as file:\n",
    "    names = file.read().splitlines()"
   ]
  },
  {
   "cell_type": "code",
   "execution_count": 2,
   "metadata": {},
   "outputs": [],
   "source": [
    "N_block = 3\n",
    "\n",
    "X_lst = []\n",
    "Y_lst = []\n",
    "\n",
    "for name in names:\n",
    "    chrs = list(name) + ['.']\n",
    "    gram = ['.'] * N_block\n",
    "    for ch in chrs:\n",
    "        X_lst.append(gram)\n",
    "        Y_lst.append(ch)\n",
    "        gram = gram[1:] + [ch]"
   ]
  },
  {
   "cell_type": "code",
   "execution_count": 3,
   "metadata": {},
   "outputs": [
    {
     "name": "stdout",
     "output_type": "stream",
     "text": [
      "WARNING:tensorflow:From c:\\Users\\q619374\\AppData\\Local\\Programs\\Python\\Python311\\Lib\\site-packages\\keras\\src\\losses.py:2976: The name tf.losses.sparse_softmax_cross_entropy is deprecated. Please use tf.compat.v1.losses.sparse_softmax_cross_entropy instead.\n",
      "\n"
     ]
    }
   ],
   "source": [
    "import numpy as np\n",
    "from keras.preprocessing.text import Tokenizer\n",
    "from keras.preprocessing.sequence import pad_sequences\n",
    "from tensorflow.keras.utils import to_categorical\n",
    "\n",
    "\n",
    "N_chars = 27\n",
    "N_X_tokens = 3\n",
    "N_Y_tokens = 1\n",
    "N_embedding_dim = 2\n",
    "\n",
    "X_tokenizer = Tokenizer(filters='!\"#$%&()*+,-/:;<=>?@[\\\\]^_`{|}~\\t\\n')\n",
    "X_tokenizer.fit_on_texts(X_lst)\n",
    "X_token_lst = X_tokenizer.texts_to_sequences(X_lst)\n",
    "X_index_dct = X_tokenizer.word_index\n",
    "X = pad_sequences(X_token_lst, maxlen=N_X_tokens) - 1\n",
    "\n",
    "Y_tokenizer = Tokenizer(filters='!\"#$%&()*+,-/:;<=>?@[\\\\]^_`{|}~\\t\\n')\n",
    "Y_tokenizer.fit_on_texts(Y_lst)\n",
    "Y_token_lst = Y_tokenizer.texts_to_sequences(Y_lst)\n",
    "Y_index_dct = Y_tokenizer.word_index\n",
    "Y_word_dct = {index: char for char, index in Y_index_dct.items()}\n",
    "Y_seq = pad_sequences(Y_token_lst, maxlen=N_Y_tokens) - 1\n",
    "Y = to_categorical(Y_seq)"
   ]
  },
  {
   "cell_type": "code",
   "execution_count": 4,
   "metadata": {},
   "outputs": [
    {
     "name": "stdout",
     "output_type": "stream",
     "text": [
      "WARNING:tensorflow:From c:\\Users\\q619374\\AppData\\Local\\Programs\\Python\\Python311\\Lib\\site-packages\\keras\\src\\backend.py:873: The name tf.get_default_graph is deprecated. Please use tf.compat.v1.get_default_graph instead.\n",
      "\n",
      "WARNING:tensorflow:From c:\\Users\\q619374\\AppData\\Local\\Programs\\Python\\Python311\\Lib\\site-packages\\keras\\src\\optimizers\\__init__.py:309: The name tf.train.Optimizer is deprecated. Please use tf.compat.v1.train.Optimizer instead.\n",
      "\n",
      "Model: \"sequential\"\n",
      "_________________________________________________________________\n",
      " Layer (type)                Output Shape              Param #   \n",
      "=================================================================\n",
      " embedding (Embedding)       (None, 3, 2)              54        \n",
      "                                                                 \n",
      " flatten (Flatten)           (None, 6)                 0         \n",
      "                                                                 \n",
      " dense (Dense)               (None, 27)                189       \n",
      "                                                                 \n",
      "=================================================================\n",
      "Total params: 243 (972.00 Byte)\n",
      "Trainable params: 243 (972.00 Byte)\n",
      "Non-trainable params: 0 (0.00 Byte)\n",
      "_________________________________________________________________\n",
      "Epoch 1/6\n",
      "WARNING:tensorflow:From c:\\Users\\q619374\\AppData\\Local\\Programs\\Python\\Python311\\Lib\\site-packages\\keras\\src\\utils\\tf_utils.py:492: The name tf.ragged.RaggedTensorValue is deprecated. Please use tf.compat.v1.ragged.RaggedTensorValue instead.\n",
      "\n",
      "WARNING:tensorflow:From c:\\Users\\q619374\\AppData\\Local\\Programs\\Python\\Python311\\Lib\\site-packages\\keras\\src\\engine\\base_layer_utils.py:384: The name tf.executing_eagerly_outside_functions is deprecated. Please use tf.compat.v1.executing_eagerly_outside_functions instead.\n",
      "\n",
      "7130/7130 [==============================] - 13s 2ms/step - loss: 2.6069 - acc: 0.2318\n",
      "Epoch 2/6\n",
      "7130/7130 [==============================] - 9s 1ms/step - loss: 2.4893 - acc: 0.2452\n",
      "Epoch 3/6\n",
      "7130/7130 [==============================] - 9s 1ms/step - loss: 2.4820 - acc: 0.2463\n",
      "Epoch 4/6\n",
      "7130/7130 [==============================] - 9s 1ms/step - loss: 2.4797 - acc: 0.2458\n",
      "Epoch 5/6\n",
      "7130/7130 [==============================] - 8s 1ms/step - loss: 2.4791 - acc: 0.2459\n",
      "Epoch 6/6\n",
      "7130/7130 [==============================] - 8s 1ms/step - loss: 2.4796 - acc: 0.2459\n"
     ]
    }
   ],
   "source": [
    "from keras.models import Sequential\n",
    "from keras.layers import Flatten, Dense, Embedding, Softmax\n",
    "\n",
    "model = Sequential()\n",
    "model.add(Embedding(N_chars, N_embedding_dim, input_length=N_X_tokens))\n",
    "model.add(Flatten())\n",
    "model.add(Dense(N_chars, activation='softmax'))\n",
    "model.compile(optimizer='rmsprop', loss='categorical_crossentropy', metrics=['acc'])\n",
    "\n",
    "model.summary()\n",
    "\n",
    "history = model.fit(X, Y, epochs=6)"
   ]
  },
  {
   "cell_type": "code",
   "execution_count": 18,
   "metadata": {},
   "outputs": [
    {
     "name": "stdout",
     "output_type": "stream",
     "text": [
      "[2, 2, 2]\n",
      "1/1 [==============================] - 0s 51ms/step\n",
      "[2, 2, 4]\n",
      "1/1 [==============================] - 0s 46ms/step\n",
      "n.\n"
     ]
    }
   ],
   "source": [
    "import numpy as np\n",
    "\n",
    "\n",
    "N_pred_words = 1\n",
    "\n",
    "stop_idx = Y_index_dct['.']\n",
    "for _ in range(N_pred_words):\n",
    "    tokens = [stop_idx] * N_X_tokens\n",
    "    word = ''\n",
    "    while True:\n",
    "        print(tokens)\n",
    "        p = np.squeeze(model.predict([tokens]))\n",
    "        idx = int(np.random.choice(np.arange(N_chars), p=p)) + 1\n",
    "        # print(idx)\n",
    "        tokens = tokens[1:] + [idx]\n",
    "        # tokens = [1] * N_X_tokens\n",
    "        word += Y_word_dct[idx]\n",
    "        if idx == stop_idx:\n",
    "            break\n",
    "    print(word)"
   ]
  },
  {
   "cell_type": "code",
   "execution_count": null,
   "metadata": {},
   "outputs": [],
   "source": []
  }
 ],
 "metadata": {
  "kernelspec": {
   "display_name": "Python 3",
   "language": "python",
   "name": "python3"
  },
  "language_info": {
   "codemirror_mode": {
    "name": "ipython",
    "version": 3
   },
   "file_extension": ".py",
   "mimetype": "text/x-python",
   "name": "python",
   "nbconvert_exporter": "python",
   "pygments_lexer": "ipython3",
   "version": "3.11.7"
  }
 },
 "nbformat": 4,
 "nbformat_minor": 2
}
