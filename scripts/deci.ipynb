{
 "cells": [
  {
   "cell_type": "code",
   "execution_count": 21,
   "metadata": {},
   "outputs": [],
   "source": [
    "import numpy as np\n",
    "import seaborn as sns\n",
    "from matplotlib import pyplot as plt\n",
    "import networkx as nx\n",
    "\n",
    "from castle.datasets import DAG, IIDSimulation\n",
    "from castle.common import GraphDAG\n",
    "from castle.metrics import MetricsDAG\n",
    "from castle.algorithms import PC"
   ]
  },
  {
   "cell_type": "code",
   "execution_count": 11,
   "metadata": {},
   "outputs": [
    {
     "name": "stderr",
     "output_type": "stream",
     "text": [
      "2024-06-04 19:36:33,582 - /opt/homebrew/Caskroom/miniconda/base/envs/causal/lib/python3.10/site-packages/castle/datasets/simulator.py[line:270] - INFO: Finished synthetic dataset\n"
     ]
    }
   ],
   "source": [
    "adj_matrix = DAG.scale_free(\n",
    "    n_nodes=4,\n",
    "    n_edges=6,\n",
    ")\n",
    "\n",
    "dataset = IIDSimulation(\n",
    "    W=adj_matrix,\n",
    "    n=10000,\n",
    "    method='linear',\n",
    "    sem_type='gauss'\n",
    ")\n",
    "\n",
    "# dataset = IIDSimulation(\n",
    "#     W=adj_matrix,\n",
    "#     n=5000,\n",
    "#     method='nonlinear',\n",
    "#     sem_type='mim'\n",
    "# )"
   ]
  },
  {
   "cell_type": "code",
   "execution_count": 38,
   "metadata": {},
   "outputs": [
    {
     "name": "stderr",
     "output_type": "stream",
     "text": [
      "2024-06-04 23:09:38,503 - /opt/homebrew/Caskroom/miniconda/base/envs/causal/lib/python3.10/site-packages/castle/datasets/simulator.py[line:270] - INFO: Finished synthetic dataset\n"
     ]
    },
    {
     "name": "stderr",
     "output_type": "stream",
     "text": [
      "2024-06-04 23:09:38,515 - /opt/homebrew/Caskroom/miniconda/base/envs/causal/lib/python3.10/site-packages/castle/datasets/simulator.py[line:270] - INFO: Finished synthetic dataset\n",
      "2024-06-04 23:09:38,530 - /opt/homebrew/Caskroom/miniconda/base/envs/causal/lib/python3.10/site-packages/castle/datasets/simulator.py[line:270] - INFO: Finished synthetic dataset\n",
      "2024-06-04 23:09:38,544 - /opt/homebrew/Caskroom/miniconda/base/envs/causal/lib/python3.10/site-packages/castle/datasets/simulator.py[line:270] - INFO: Finished synthetic dataset\n",
      "2024-06-04 23:09:38,565 - /opt/homebrew/Caskroom/miniconda/base/envs/causal/lib/python3.10/site-packages/castle/datasets/simulator.py[line:270] - INFO: Finished synthetic dataset\n",
      "2024-06-04 23:09:38,583 - /opt/homebrew/Caskroom/miniconda/base/envs/causal/lib/python3.10/site-packages/castle/datasets/simulator.py[line:270] - INFO: Finished synthetic dataset\n",
      "2024-06-04 23:09:38,594 - /opt/homebrew/Caskroom/miniconda/base/envs/causal/lib/python3.10/site-packages/castle/datasets/simulator.py[line:270] - INFO: Finished synthetic dataset\n",
      "2024-06-04 23:09:38,610 - /opt/homebrew/Caskroom/miniconda/base/envs/causal/lib/python3.10/site-packages/castle/datasets/simulator.py[line:270] - INFO: Finished synthetic dataset\n",
      "2024-06-04 23:09:38,661 - /opt/homebrew/Caskroom/miniconda/base/envs/causal/lib/python3.10/site-packages/castle/datasets/simulator.py[line:270] - INFO: Finished synthetic dataset\n",
      "2024-06-04 23:09:38,684 - /opt/homebrew/Caskroom/miniconda/base/envs/causal/lib/python3.10/site-packages/castle/datasets/simulator.py[line:270] - INFO: Finished synthetic dataset\n",
      "2024-06-04 23:09:38,702 - /opt/homebrew/Caskroom/miniconda/base/envs/causal/lib/python3.10/site-packages/castle/datasets/simulator.py[line:270] - INFO: Finished synthetic dataset\n",
      "2024-06-04 23:09:38,717 - /opt/homebrew/Caskroom/miniconda/base/envs/causal/lib/python3.10/site-packages/castle/datasets/simulator.py[line:270] - INFO: Finished synthetic dataset\n",
      "2024-06-04 23:09:38,740 - /opt/homebrew/Caskroom/miniconda/base/envs/causal/lib/python3.10/site-packages/castle/datasets/simulator.py[line:270] - INFO: Finished synthetic dataset\n",
      "2024-06-04 23:09:38,760 - /opt/homebrew/Caskroom/miniconda/base/envs/causal/lib/python3.10/site-packages/castle/datasets/simulator.py[line:270] - INFO: Finished synthetic dataset\n",
      "2024-06-04 23:09:38,782 - /opt/homebrew/Caskroom/miniconda/base/envs/causal/lib/python3.10/site-packages/castle/datasets/simulator.py[line:270] - INFO: Finished synthetic dataset\n",
      "2024-06-04 23:09:38,800 - /opt/homebrew/Caskroom/miniconda/base/envs/causal/lib/python3.10/site-packages/castle/datasets/simulator.py[line:270] - INFO: Finished synthetic dataset\n",
      "2024-06-04 23:09:38,813 - /opt/homebrew/Caskroom/miniconda/base/envs/causal/lib/python3.10/site-packages/castle/datasets/simulator.py[line:270] - INFO: Finished synthetic dataset\n",
      "2024-06-04 23:09:38,833 - /opt/homebrew/Caskroom/miniconda/base/envs/causal/lib/python3.10/site-packages/castle/datasets/simulator.py[line:270] - INFO: Finished synthetic dataset\n",
      "2024-06-04 23:09:38,851 - /opt/homebrew/Caskroom/miniconda/base/envs/causal/lib/python3.10/site-packages/castle/datasets/simulator.py[line:270] - INFO: Finished synthetic dataset\n",
      "2024-06-04 23:09:38,868 - /opt/homebrew/Caskroom/miniconda/base/envs/causal/lib/python3.10/site-packages/castle/datasets/simulator.py[line:270] - INFO: Finished synthetic dataset\n",
      "2024-06-04 23:09:38,881 - /opt/homebrew/Caskroom/miniconda/base/envs/causal/lib/python3.10/site-packages/castle/datasets/simulator.py[line:270] - INFO: Finished synthetic dataset\n",
      "2024-06-04 23:09:38,899 - /opt/homebrew/Caskroom/miniconda/base/envs/causal/lib/python3.10/site-packages/castle/datasets/simulator.py[line:270] - INFO: Finished synthetic dataset\n",
      "2024-06-04 23:09:38,914 - /opt/homebrew/Caskroom/miniconda/base/envs/causal/lib/python3.10/site-packages/castle/datasets/simulator.py[line:270] - INFO: Finished synthetic dataset\n",
      "2024-06-04 23:09:38,930 - /opt/homebrew/Caskroom/miniconda/base/envs/causal/lib/python3.10/site-packages/castle/datasets/simulator.py[line:270] - INFO: Finished synthetic dataset\n",
      "2024-06-04 23:09:38,947 - /opt/homebrew/Caskroom/miniconda/base/envs/causal/lib/python3.10/site-packages/castle/datasets/simulator.py[line:270] - INFO: Finished synthetic dataset\n",
      "2024-06-04 23:09:38,974 - /opt/homebrew/Caskroom/miniconda/base/envs/causal/lib/python3.10/site-packages/castle/datasets/simulator.py[line:270] - INFO: Finished synthetic dataset\n",
      "2024-06-04 23:09:38,997 - /opt/homebrew/Caskroom/miniconda/base/envs/causal/lib/python3.10/site-packages/castle/datasets/simulator.py[line:270] - INFO: Finished synthetic dataset\n",
      "2024-06-04 23:09:39,028 - /opt/homebrew/Caskroom/miniconda/base/envs/causal/lib/python3.10/site-packages/castle/datasets/simulator.py[line:270] - INFO: Finished synthetic dataset\n",
      "2024-06-04 23:09:39,067 - /opt/homebrew/Caskroom/miniconda/base/envs/causal/lib/python3.10/site-packages/castle/datasets/simulator.py[line:270] - INFO: Finished synthetic dataset\n",
      "2024-06-04 23:09:39,133 - /opt/homebrew/Caskroom/miniconda/base/envs/causal/lib/python3.10/site-packages/castle/datasets/simulator.py[line:270] - INFO: Finished synthetic dataset\n",
      "2024-06-04 23:09:39,198 - /opt/homebrew/Caskroom/miniconda/base/envs/causal/lib/python3.10/site-packages/castle/datasets/simulator.py[line:270] - INFO: Finished synthetic dataset\n",
      "2024-06-04 23:09:39,262 - /opt/homebrew/Caskroom/miniconda/base/envs/causal/lib/python3.10/site-packages/castle/datasets/simulator.py[line:270] - INFO: Finished synthetic dataset\n",
      "2024-06-04 23:09:39,334 - /opt/homebrew/Caskroom/miniconda/base/envs/causal/lib/python3.10/site-packages/castle/datasets/simulator.py[line:270] - INFO: Finished synthetic dataset\n",
      "2024-06-04 23:09:39,417 - /opt/homebrew/Caskroom/miniconda/base/envs/causal/lib/python3.10/site-packages/castle/datasets/simulator.py[line:270] - INFO: Finished synthetic dataset\n",
      "2024-06-04 23:09:39,516 - /opt/homebrew/Caskroom/miniconda/base/envs/causal/lib/python3.10/site-packages/castle/datasets/simulator.py[line:270] - INFO: Finished synthetic dataset\n",
      "2024-06-04 23:09:39,641 - /opt/homebrew/Caskroom/miniconda/base/envs/causal/lib/python3.10/site-packages/castle/datasets/simulator.py[line:270] - INFO: Finished synthetic dataset\n",
      "2024-06-04 23:09:39,766 - /opt/homebrew/Caskroom/miniconda/base/envs/causal/lib/python3.10/site-packages/castle/datasets/simulator.py[line:270] - INFO: Finished synthetic dataset\n",
      "2024-06-04 23:09:39,892 - /opt/homebrew/Caskroom/miniconda/base/envs/causal/lib/python3.10/site-packages/castle/datasets/simulator.py[line:270] - INFO: Finished synthetic dataset\n",
      "2024-06-04 23:09:40,059 - /opt/homebrew/Caskroom/miniconda/base/envs/causal/lib/python3.10/site-packages/castle/datasets/simulator.py[line:270] - INFO: Finished synthetic dataset\n",
      "2024-06-04 23:09:40,246 - /opt/homebrew/Caskroom/miniconda/base/envs/causal/lib/python3.10/site-packages/castle/datasets/simulator.py[line:270] - INFO: Finished synthetic dataset\n",
      "2024-06-04 23:09:40,520 - /opt/homebrew/Caskroom/miniconda/base/envs/causal/lib/python3.10/site-packages/castle/datasets/simulator.py[line:270] - INFO: Finished synthetic dataset\n",
      "2024-06-04 23:09:40,826 - /opt/homebrew/Caskroom/miniconda/base/envs/causal/lib/python3.10/site-packages/castle/datasets/simulator.py[line:270] - INFO: Finished synthetic dataset\n",
      "2024-06-04 23:09:41,185 - /opt/homebrew/Caskroom/miniconda/base/envs/causal/lib/python3.10/site-packages/castle/datasets/simulator.py[line:270] - INFO: Finished synthetic dataset\n",
      "2024-06-04 23:09:41,627 - /opt/homebrew/Caskroom/miniconda/base/envs/causal/lib/python3.10/site-packages/castle/datasets/simulator.py[line:270] - INFO: Finished synthetic dataset\n",
      "2024-06-04 23:09:42,183 - /opt/homebrew/Caskroom/miniconda/base/envs/causal/lib/python3.10/site-packages/castle/datasets/simulator.py[line:270] - INFO: Finished synthetic dataset\n",
      "2024-06-04 23:09:42,914 - /opt/homebrew/Caskroom/miniconda/base/envs/causal/lib/python3.10/site-packages/castle/datasets/simulator.py[line:270] - INFO: Finished synthetic dataset\n",
      "2024-06-04 23:09:43,711 - /opt/homebrew/Caskroom/miniconda/base/envs/causal/lib/python3.10/site-packages/castle/datasets/simulator.py[line:270] - INFO: Finished synthetic dataset\n",
      "2024-06-04 23:09:44,735 - /opt/homebrew/Caskroom/miniconda/base/envs/causal/lib/python3.10/site-packages/castle/datasets/simulator.py[line:270] - INFO: Finished synthetic dataset\n",
      "2024-06-04 23:09:46,156 - /opt/homebrew/Caskroom/miniconda/base/envs/causal/lib/python3.10/site-packages/castle/datasets/simulator.py[line:270] - INFO: Finished synthetic dataset\n",
      "2024-06-04 23:09:47,657 - /opt/homebrew/Caskroom/miniconda/base/envs/causal/lib/python3.10/site-packages/castle/datasets/simulator.py[line:270] - INFO: Finished synthetic dataset\n",
      "2024-06-04 23:09:49,621 - /opt/homebrew/Caskroom/miniconda/base/envs/causal/lib/python3.10/site-packages/castle/datasets/simulator.py[line:270] - INFO: Finished synthetic dataset\n"
     ]
    },
    {
     "data": {
      "text/plain": [
       "[<matplotlib.lines.Line2D at 0x327b3bdc0>]"
      ]
     },
     "execution_count": 38,
     "metadata": {},
     "output_type": "execute_result"
    },
    {
     "data": {
      "image/png": "[encoded data removed]",
      "text/plain": [
       "<Figure size 640x480 with 1 Axes>"
      ]
     },
     "metadata": {},
     "output_type": "display_data"
    }
   ],
   "source": [
    "n_lst = np.logspace(1, 6, 51).tolist()\n",
    "fdr_lst = []\n",
    "\n",
    "for n in n_lst:\n",
    "\n",
    "    dataset = IIDSimulation(\n",
    "        W=adj_matrix,\n",
    "        n=int(n),\n",
    "        method='linear',\n",
    "        sem_type='gauss'\n",
    "    )\n",
    "\n",
    "    pc = PC()\n",
    "    pc.learn(dataset.X)\n",
    "    pred_dag = pc.causal_matrix\n",
    "\n",
    "    metrics = MetricsDAG(\n",
    "        B_est=pred_dag,\n",
    "        B_true=adj_matrix\n",
    "    )\n",
    "\n",
    "    fdr_lst.append(metrics.metrics[\"F1\"])\n",
    "\n",
    "plt.semilogx(n_lst, fdr_lst)"
   ]
  },
  {
   "cell_type": "code",
   "execution_count": null,
   "metadata": {},
   "outputs": [],
   "source": []
  }
 ],
 "metadata": {
  "kernelspec": {
   "display_name": "ml",
   "language": "python",
   "name": "python3"
  },
  "language_info": {
   "codemirror_mode": {
    "name": "ipython",
    "version": 3
   },
   "file_extension": ".py",
   "mimetype": "text/x-python",
   "name": "python",
   "nbconvert_exporter": "python",
   "pygments_lexer": "ipython3",
   "version": "3.10.14"
  }
 },
 "nbformat": 4,
 "nbformat_minor": 2
}
