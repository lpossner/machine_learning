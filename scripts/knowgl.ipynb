{
 "cells": [
  {
   "cell_type": "code",
   "execution_count": 2,
   "metadata": {},
   "outputs": [
    {
     "name": "stderr",
     "output_type": "stream",
     "text": [
      "/opt/homebrew/Caskroom/miniconda/base/envs/language_processing/lib/python3.12/site-packages/transformers/tokenization_utils_base.py:1601: FutureWarning: `clean_up_tokenization_spaces` was not set. It will be set to `True` by default. This behavior will be depracted in transformers v4.45, and will be then set to `False` by default. For more details check this issue: https://github.com/huggingface/transformers/issues/31884\n",
      "  warnings.warn(\n"
     ]
    }
   ],
   "source": [
    "# Use a pipeline as a high-level helper\n",
    "from transformers import pipeline\n",
    "\n",
    "pipe = pipeline(\"text2text-generation\", model=\"ibm/knowgl-large\", device=\"mps\")"
   ]
  },
  {
   "cell_type": "code",
   "execution_count": 5,
   "metadata": {},
   "outputs": [],
   "source": [
    "import requests\n",
    "\n",
    "def fetch_wikipedia_page(title, language=\"en\"):\n",
    "    # Wikipedia API endpoint\n",
    "    url = f\"https://{language}.wikipedia.org/w/api.php\"\n",
    "\n",
    "    # API parameters\n",
    "    params = {\n",
    "        \"action\": \"query\",\n",
    "        \"format\": \"json\",\n",
    "        \"titles\": title,\n",
    "        \"prop\": \"extracts\",\n",
    "        \"explaintext\": True  # Plain text without HTML tags\n",
    "    }\n",
    "\n",
    "    # Make the request\n",
    "    response = requests.get(url, params=params)\n",
    "    data = response.json()\n",
    "\n",
    "    # Extract page text\n",
    "    pages = data.get(\"query\", {}).get(\"pages\", {})\n",
    "    page = next(iter(pages.values()))\n",
    "    \n",
    "    if \"extract\" in page:\n",
    "        return page[\"extract\"]\n",
    "    else:\n",
    "        return \"Page not found or no content available.\"\n",
    "\n",
    "page_title = \"Jakarta\"\n",
    "content = fetch_wikipedia_page(page_title)"
   ]
  },
  {
   "cell_type": "code",
   "execution_count": 12,
   "metadata": {},
   "outputs": [],
   "source": [
    "answer = pipe(content[:1000])"
   ]
  },
  {
   "cell_type": "code",
   "execution_count": 15,
   "metadata": {},
   "outputs": [
    {
     "data": {
      "text/plain": [
       "['[(Jakarta#Jakarta#human settlement)|instance of|(capital#Capital city#human settlement)]',\n",
       " '[(Jakarta#Jakarta#human settlement)|located in or next to body of water|(Java Sea#Java Sea#sea)]',\n",
       " '[(Jakarta#Jakarta#human settlement)|shares border with|(West Java#West Java#provinces of Indonesia)]',\n",
       " '[(Jakarta#Jakarta#human settlement)|shares border with|(Banten#Banten#provinces of Indonesia)]',\n",
       " '[(Java#Java#island)|located in or next to body of water|(Java Sea#Java Sea#sea)]',\n",
       " '[(Java#Java#island)|contains administrative territorial entity|(West Java#West Java#provinces of Indonesia)]',\n",
       " '[(Java#Java#island)|contains administrative territorial entity|(Banten#Banten#provinces of Indonesia)]',\n",
       " '[(West Java#West Java#provinces of Indonesia)|shares border with|(Jakarta#Jakarta#human settlement)]',\n",
       " '[(West Java#West Java#provinces of Indonesia)|shares border with|(Banten#Banten#provinces of Indonesia)]',\n",
       " '[(Banten#Banten#provinces of Indonesia)|shares border with|(Jakarta#Jakarta#human settlement)]',\n",
       " '[(Banten#Banten#provinces of Indonesia)|shares border with|(West Java#West Java#provinces of Indonesia)]']"
      ]
     },
     "execution_count": 15,
     "metadata": {},
     "output_type": "execute_result"
    }
   ],
   "source": [
    "answer[0]['generated_text'].split(\"$\")"
   ]
  },
  {
   "cell_type": "code",
   "execution_count": null,
   "metadata": {},
   "outputs": [],
   "source": []
  }
 ],
 "metadata": {
  "kernelspec": {
   "display_name": "language_processing",
   "language": "python",
   "name": "python3"
  },
  "language_info": {
   "codemirror_mode": {
    "name": "ipython",
    "version": 3
   },
   "file_extension": ".py",
   "mimetype": "text/x-python",
   "name": "python",
   "nbconvert_exporter": "python",
   "pygments_lexer": "ipython3",
   "version": "3.12.0"
  }
 },
 "nbformat": 4,
 "nbformat_minor": 2
}
