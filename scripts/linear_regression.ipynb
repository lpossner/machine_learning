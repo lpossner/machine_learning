{
 "cells": [
  {
   "cell_type": "code",
   "execution_count": 29,
   "metadata": {},
   "outputs": [],
   "source": [
    "from sklearn.datasets import load_diabetes\n",
    "from sklearn.model_selection import train_test_split\n",
    "\n",
    "\n",
    "data = load_diabetes()\n",
    "X = data.data\n",
    "y = data.target\n",
    "columns = data.feature_names\n",
    "\n",
    "X_train, X_test, y_train, y_test = train_test_split(X, y, test_size=0.4)"
   ]
  },
  {
   "cell_type": "code",
   "execution_count": 32,
   "metadata": {},
   "outputs": [
    {
     "name": "stdout",
     "output_type": "stream",
     "text": [
      "R2 Score\n",
      "0.5287315128778121\n",
      "Explained Variance Score\n",
      "0.528798766811554\n",
      "Max Error Score\n",
      "163.2631655725744\n"
     ]
    }
   ],
   "source": [
    "## Linear Regression\n",
    "from sklearn.linear_model import LinearRegression\n",
    "from sklearn.metrics import r2_score, explained_variance_score, max_error\n",
    "\n",
    "\n",
    "# Fit\n",
    "lin_rgr = LinearRegression()\n",
    "lin_rgr.fit(X_train, y_train)\n",
    "\n",
    "# Predict\n",
    "y_pred = lin_rgr.predict(X_test)\n",
    "\n",
    "# Score\n",
    "print(\"R2 Score\")\n",
    "print(r2_score(y_test, y_pred))\n",
    "print(\"Explained Variance Score\")\n",
    "print(explained_variance_score(y_test, y_pred))\n",
    "print(\"Max Error Score\")\n",
    "print(max_error(y_test, y_pred))"
   ]
  },
  {
   "cell_type": "code",
   "execution_count": 42,
   "metadata": {},
   "outputs": [
    {
     "name": "stdout",
     "output_type": "stream",
     "text": [
      "R2 Score\n",
      "0.5287315128778121\n",
      "Explained Variance Score\n",
      "0.528798766811554\n",
      "Max Error Score\n",
      "163.2631655725744\n",
      "Best Estimator\n",
      "Pipeline(steps=[('scaler', MinMaxScaler()),\n",
      "                ('pca', KernelPCA(kernel='rbf', n_components=10)),\n",
      "                ('elst_net_rgr', ElasticNet(alpha=0.1, l1_ratio=1.0))])\n",
      "Best Parameters\n",
      "{'elst_net_rgr__alpha': 0.1, 'elst_net_rgr__l1_ratio': 1.0}\n"
     ]
    }
   ],
   "source": [
    "## Linear Regression\n",
    "import numpy as np\n",
    "from sklearn.linear_model import ElasticNet\n",
    "from sklearn.model_selection import GridSearchCV\n",
    "from sklearn.preprocessing import MinMaxScaler\n",
    "from sklearn.pipeline import Pipeline\n",
    "from sklearn.decomposition import PCA\n",
    "from sklearn.decomposition import KernelPCA\n",
    "\n",
    "\n",
    "param_grid = [\n",
    "  {\"elst_net_rgr__alpha\": np.linspace(0.1, 1, 10),\n",
    "   \"elst_net_rgr__l1_ratio\": np.linspace(0.1, 1, 10)}\n",
    "]\n",
    "\n",
    "elst_net_rgr = GridSearchCV(Pipeline([\n",
    "    (\"scaler\", MinMaxScaler()),\n",
    "    # (\"pca\", PCA(n_components=len(columns))),\n",
    "    (\"pca\", KernelPCA(n_components=len(columns), kernel=\"rbf\")),\n",
    "    (\"elst_net_rgr\", ElasticNet()),]),\n",
    "    param_grid, cv=10, verbose=0)\n",
    "\n",
    "# Fit\n",
    "elst_net_rgr.fit(X_train, y_train)\n",
    "\n",
    "# Predict\n",
    "y_pred = lin_rgr.predict(X_test)\n",
    "\n",
    "# Score\n",
    "print(\"R2 Score\")\n",
    "print(r2_score(y_test, y_pred))\n",
    "print(\"Explained Variance Score\")\n",
    "print(explained_variance_score(y_test, y_pred))\n",
    "print(\"Max Error Score\")\n",
    "print(max_error(y_test, y_pred))\n",
    "print(\"Best Estimator\")\n",
    "print(elst_net_rgr.best_estimator_)\n",
    "print(\"Best Parameters\")\n",
    "print(elst_net_rgr.best_params_)"
   ]
  },
  {
   "cell_type": "code",
   "execution_count": null,
   "metadata": {},
   "outputs": [],
   "source": []
  }
 ],
 "metadata": {
  "kernelspec": {
   "display_name": "kaggle",
   "language": "python",
   "name": "python3"
  },
  "language_info": {
   "codemirror_mode": {
    "name": "ipython",
    "version": 3
   },
   "file_extension": ".py",
   "mimetype": "text/x-python",
   "name": "python",
   "nbconvert_exporter": "python",
   "pygments_lexer": "ipython3",
   "version": "3.11.5"
  },
  "orig_nbformat": 4
 },
 "nbformat": 4,
 "nbformat_minor": 2
}
