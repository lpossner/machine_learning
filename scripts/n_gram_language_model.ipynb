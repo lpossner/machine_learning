{
 "cells": [
  {
   "cell_type": "code",
   "execution_count": 69,
   "id": "75727b0b",
   "metadata": {},
   "outputs": [],
   "source": [
    "import random\n",
    "from tqdm import tqdm"
   ]
  },
  {
   "cell_type": "code",
   "execution_count": 70,
   "id": "329bf419",
   "metadata": {},
   "outputs": [],
   "source": [
    "path = \"../data/shakespeare/input.txt\"\n",
    "\n",
    "with open(path, \"r\") as file:\n",
    "    text = file.read()\n",
    "\n",
    "raw_paragraphs = text.split(\"\\n\\n\")\n",
    "paragraphs = []\n",
    "for paragraph in raw_paragraphs:\n",
    "    paragraph = paragraph.replace(\"\\n\", \" \")\n",
    "    paragraph = paragraph.replace(\"\\r\", \" \")\n",
    "    paragraph = paragraph.replace(\"\\t\", \" \")\n",
    "    paragraph = paragraph.replace(\"  \", \" \")\n",
    "    paragraph = paragraph.replace(\"/\", \" \")\n",
    "    paragraph = \"/\" + paragraph + \"/\"\n",
    "    paragraphs.append(paragraph.strip())\n",
    "\n",
    "paragraphs_tokens = [list(paragraph) for paragraph in paragraphs]"
   ]
  },
  {
   "cell_type": "code",
   "execution_count": 71,
   "id": "4a9b2277",
   "metadata": {},
   "outputs": [
    {
     "name": "stderr",
     "output_type": "stream",
     "text": [
      "100%|██████████| 7222/7222 [00:16<00:00, 431.31it/s]\n"
     ]
    }
   ],
   "source": [
    "n_grams = 30\n",
    "\n",
    "unnormalized_token_counts = {}\n",
    "for paragraph_tokens in tqdm(paragraphs_tokens):\n",
    "    current_token_list = [paragraph_tokens[idx:] for idx in range(n_grams)]\n",
    "    for current_tokens in zip(*current_token_list):\n",
    "        current_token_counts = unnormalized_token_counts\n",
    "        for token in current_tokens[:-1]:\n",
    "            new_current_token_counts = current_token_counts.get(token, {})\n",
    "            current_token_counts[token] = new_current_token_counts\n",
    "            current_token_counts = new_current_token_counts\n",
    "        current_token_counts[current_tokens[-1]] = current_token_counts.get(current_tokens[-1], 0) + 1"
   ]
  },
  {
   "cell_type": "code",
   "execution_count": 72,
   "id": "3fd23dcd",
   "metadata": {},
   "outputs": [],
   "source": [
    "def normalize_token_counts(token_counts):\n",
    "    if not isinstance(token_counts, dict):\n",
    "        return token_counts\n",
    "    # Separate numeric leaf nodes from sub-dictionaries\n",
    "    total = 0\n",
    "    normalized = {}\n",
    "    for token, value in token_counts.items():\n",
    "        if isinstance(value, dict):\n",
    "            normalized[token] = normalize_token_counts(value)\n",
    "        else:\n",
    "            total += value\n",
    "    # Normalize leaf nodes\n",
    "    for token, value in token_counts.items():\n",
    "        if not isinstance(value, dict):\n",
    "            normalized[token] = value / total if total > 0 else 0\n",
    "    return normalized\n",
    "\n",
    "normalized_token_counts = normalize_token_counts(unnormalized_token_counts)"
   ]
  },
  {
   "cell_type": "code",
   "execution_count": 73,
   "id": "b8321666",
   "metadata": {},
   "outputs": [],
   "source": [
    "def sample(probabilities, n):\n",
    "    result = []\n",
    "    current_level = probabilities\n",
    "    for _ in range(n):\n",
    "        tokens, probs = zip(*[\n",
    "            (token, prob) for token, prob in current_level.items()\n",
    "            if not isinstance(prob, dict)\n",
    "        ]) if all(not isinstance(v, dict) for v in current_level.values()) else zip(*[\n",
    "            (token, value if isinstance(value, float) else sum_leaf(value))\n",
    "            for token, value in current_level.items()\n",
    "        ])\n",
    "\n",
    "        next_token = random.choices(tokens, weights=probs, k=1)[0]\n",
    "        result.append(next_token)\n",
    "        # Move to next level\n",
    "        current_level = current_level.get(next_token)\n",
    "        if not isinstance(current_level, dict):\n",
    "            break\n",
    "    return tuple(result)\n",
    "\n",
    "\n",
    "def sum_leaf(d):\n",
    "    return sum(\n",
    "        v if isinstance(v, float) else sum_leaf(v)\n",
    "        for v in d.values()\n",
    "    )"
   ]
  },
  {
   "cell_type": "code",
   "execution_count": 74,
   "id": "9e022ff7",
   "metadata": {},
   "outputs": [],
   "source": [
    "def generate_sequence(prob_dict, n, start_token='/', max_tokens=50):\n",
    "    sequence = [start_token]\n",
    "    for _ in range(max_tokens - 1):\n",
    "        # Build context (use last n-1 tokens)\n",
    "        context = sequence[-(n-1):]\n",
    "        current_level = prob_dict\n",
    "        # Traverse the tree down the context\n",
    "        for token in context:\n",
    "            if isinstance(current_level, dict) and token in current_level:\n",
    "                current_level = current_level[token]\n",
    "            else:\n",
    "                return sequence  # Context not found, stop\n",
    "        # Now sample next token based on this context\n",
    "        if isinstance(current_level, dict):\n",
    "            tokens, probs = zip(*[\n",
    "                (token, value) for token, value in current_level.items()\n",
    "                if isinstance(value, float)\n",
    "            ]) if all(isinstance(v, float) for v in current_level.values()) else zip(*[\n",
    "                (token, sum_leaf(value)) for token, value in current_level.items()\n",
    "            ])\n",
    "            \n",
    "            next_token = random.choices(tokens, weights=probs, k=1)[0]\n",
    "            sequence.append(next_token)\n",
    "        else:\n",
    "            break\n",
    "    return sequence"
   ]
  },
  {
   "cell_type": "code",
   "execution_count": 75,
   "id": "a58afdf1",
   "metadata": {},
   "outputs": [
    {
     "name": "stdout",
     "output_type": "stream",
     "text": [
      "Generated sequence: / R O S P E R L E O N T E R C I U S :   A s s   T h e   m y s   b i t h e   d r a l l s   b e c u r s e e   n o t h e y   y o u   s w e   t i s c o n   h u n d   s p a r t i f e !   I   d e d u r   m o s t r e   I   w r o p h e e p   n o o k e   t h o   c h m a k e   h a t   h e n   h e a r k !   M y   d i n   o r t l e d .   W e   t h ,   n e m a y   o f   m a l l   e a r e s s u e e   u n ;   w\n"
     ]
    }
   ],
   "source": [
    "generated = generate_sequence(normalized_token_counts, n=3, start_token='/', max_tokens=200)\n",
    "\n",
    "print(\"Generated sequence:\", ' '.join(generated))"
   ]
  },
  {
   "cell_type": "code",
   "execution_count": null,
   "id": "c6aa2503",
   "metadata": {},
   "outputs": [],
   "source": []
  }
 ],
 "metadata": {
  "kernelspec": {
   "display_name": "ml",
   "language": "python",
   "name": "python3"
  },
  "language_info": {
   "codemirror_mode": {
    "name": "ipython",
    "version": 3
   },
   "file_extension": ".py",
   "mimetype": "text/x-python",
   "name": "python",
   "nbconvert_exporter": "python",
   "pygments_lexer": "ipython3",
   "version": "3.12.10"
  }
 },
 "nbformat": 4,
 "nbformat_minor": 5
}
