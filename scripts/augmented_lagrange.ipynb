{
 "cells": [
  {
   "cell_type": "code",
   "execution_count": null,
   "metadata": {},
   "outputs": [],
   "source": [
    "import numpy as np"
   ]
  },
  {
   "cell_type": "code",
   "execution_count": null,
   "metadata": {},
   "outputs": [],
   "source": [
    "f = lambda x: x[0]**2 * x[1]\n",
    "d_f = lambda x: np.array([2*x[0]*x[1], x[0]**2])"
   ]
  },
  {
   "cell_type": "code",
   "execution_count": 37,
   "metadata": {},
   "outputs": [
    {
     "data": {
      "text/plain": [
       "  message: Optimization terminated successfully.\n",
       "  success: True\n",
       "   status: 0\n",
       "      fun: 8.765676845242549e-17\n",
       "        x: [-2.156e-09  1.885e+01]\n",
       "      nit: 7\n",
       "      jac: [-8.131e-08  4.649e-18]\n",
       " hess_inv: [[ 2.652e-02 -4.001e-02]\n",
       "            [-4.001e-02  1.075e-01]]\n",
       "     nfev: 11\n",
       "     njev: 11"
      ]
     },
     "execution_count": 37,
     "metadata": {},
     "output_type": "execute_result"
    }
   ],
   "source": [
    "from scipy.optimize import minimize\n",
    "\n",
    "minimize(fun=f, x0=np.array([10, 10]), jac=d_f)"
   ]
  },
  {
   "cell_type": "code",
   "execution_count": null,
   "metadata": {},
   "outputs": [],
   "source": [
    "epsilon = 1e-18\n",
    "lr = 1e-3\n",
    "\n",
    "z = np.array([100, 10])\n",
    "y_old = f(*z)\n",
    "z_lst = []\n",
    "\n",
    "while True:\n",
    "    d_y = d_f(*z)\n",
    "    z = z - lr * d_y\n",
    "    z_lst.append(z)\n",
    "    y = f(*z)\n",
    "    # if np.abs(y - y_old) < epsilon:\n",
    "    #     break\n",
    "    if np.linalg.norm(d_y, 2) < epsilon:\n",
    "        break\n",
    "    y_old = y\n",
    "\n",
    "print(z)"
   ]
  },
  {
   "cell_type": "code",
   "execution_count": null,
   "metadata": {},
   "outputs": [],
   "source": [
    "import seaborn as sns\n",
    "\n",
    "\n",
    "x = np.linspace(-3, 3, 200)\n",
    "y = np.linspace(-3, 3, 200)\n",
    "xx, yy = np.meshgrid(x, y)\n",
    "\n",
    "Z = f(xx, yy)\n",
    "\n",
    "sns.heatmap(Z)\n",
    "sns.scatterplot(x=[z[0] for z in z_lst], y=[z[1] for z in z_lst])"
   ]
  }
 ],
 "metadata": {
  "kernelspec": {
   "display_name": "ml",
   "language": "python",
   "name": "python3"
  },
  "language_info": {
   "codemirror_mode": {
    "name": "ipython",
    "version": 3
   },
   "file_extension": ".py",
   "mimetype": "text/x-python",
   "name": "python",
   "nbconvert_exporter": "python",
   "pygments_lexer": "ipython3",
   "version": "3.11.6"
  }
 },
 "nbformat": 4,
 "nbformat_minor": 2
}
