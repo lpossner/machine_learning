{
 "cells": [
  {
   "cell_type": "code",
   "execution_count": 1,
   "metadata": {},
   "outputs": [],
   "source": [
    "import numpy as np\n",
    "from matplotlib import pyplot as plt"
   ]
  },
  {
   "cell_type": "code",
   "execution_count": 2,
   "metadata": {},
   "outputs": [
    {
     "name": "stdout",
     "output_type": "stream",
     "text": [
      "9.0 3.0000000000000004\n",
      "0.9999999999999996\n",
      "1.0\n"
     ]
    },
    {
     "data": {
      "image/png": "[encoded data removed]",
      "text/plain": [
       "<Figure size 640x480 with 1 Axes>"
      ]
     },
     "metadata": {},
     "output_type": "display_data"
    }
   ],
   "source": [
    "x1, y1 = 0, 4\n",
    "x2, y2 = 9, 4\n",
    "x3, y3 = 10, 3\n",
    "x4, y4 = 10, 0\n",
    "\n",
    "R1 = np.sqrt(x2**2 + y2**2)\n",
    "R2 = np.sqrt(x3**2 + y3**2)\n",
    "\n",
    "alpha1 = np.arctan2(y2, x2)\n",
    "alpha2 = np.arctan2(y3, x3)\n",
    "\n",
    "alphad1 = np.arctan2((y2-y1), (x2-x1))\n",
    "alphad2 = np.arctan2((y4-y3), (x4-x3))\n",
    "\n",
    "C1 = R1 * (np.sin(alpha1) * np.tan(alphad1) - np.cos(alpha1))\n",
    "C2 = R2 * (np.sin(alpha2) * np.tan(alphad2) - np.cos(alpha2))\n",
    "\n",
    "ym = (C1 - C2) / (np.tan(alphad1) - np.tan(alphad2))\n",
    "xm = ym * np.tan(alphad1) - C1\n",
    "\n",
    "print(xm, ym)\n",
    "print(np.sqrt((-xm+x2)**2 + (-ym+y2)**2))\n",
    "print(np.sqrt((-xm+x3)**2 + (-ym+y3)**2))\n",
    "\n",
    "phic = np.linspace(0, 2 * np.pi, 1000)\n",
    "# Rc = np.sqrt((-xm+x2)**2 + (-ym+y2)**2)\n",
    "Rc = np.sqrt((-xm+x3)**2 + (-ym+y3)**2)\n",
    "xc = Rc * np.cos(phic) + xm\n",
    "yc = Rc * np.sin(phic) + ym\n",
    "\n",
    "\n",
    "plt.plot([x1, x2], [y1, y2])\n",
    "plt.plot([x3, x4], [y3, y4])\n",
    "plt.plot([xm], [ym], 'o')\n",
    "plt.plot(xc, yc)\n",
    "\n",
    "plt.gca().set_aspect('equal')"
   ]
  },
  {
   "cell_type": "code",
   "execution_count": null,
   "metadata": {},
   "outputs": [],
   "source": []
  }
 ],
 "metadata": {
  "kernelspec": {
   "display_name": "ml",
   "language": "python",
   "name": "python3"
  },
  "language_info": {
   "codemirror_mode": {
    "name": "ipython",
    "version": 3
   },
   "file_extension": ".py",
   "mimetype": "text/x-python",
   "name": "python",
   "nbconvert_exporter": "python",
   "pygments_lexer": "ipython3",
   "version": "3.12.0"
  }
 },
 "nbformat": 4,
 "nbformat_minor": 2
}
