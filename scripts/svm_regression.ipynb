{
 "cells": [
  {
   "cell_type": "code",
   "execution_count": 2,
   "metadata": {},
   "outputs": [],
   "source": [
    "from sklearn.datasets import load_diabetes\n",
    "from sklearn.model_selection import train_test_split\n",
    "\n",
    "\n",
    "data = load_diabetes()\n",
    "X = data.data\n",
    "y = data.target\n",
    "columns = data.feature_names\n",
    "\n",
    "X_train, X_test, y_train, y_test = train_test_split(X, y, test_size=0.4)"
   ]
  },
  {
   "cell_type": "code",
   "execution_count": 6,
   "metadata": {},
   "outputs": [
    {
     "name": "stdout",
     "output_type": "stream",
     "text": [
      "Fitting 10 folds for each of 108 candidates, totalling 1080 fits\n",
      "R2 Score\n",
      "0.48749502331129513\n",
      "Explained Variance Score\n",
      "0.4899847464414767\n",
      "Max Error Score\n",
      "140.55941445445077\n"
     ]
    }
   ],
   "source": [
    "import numpy as np\n",
    "from sklearn.svm import SVR\n",
    "from sklearn.pipeline import Pipeline\n",
    "from sklearn.model_selection import GridSearchCV\n",
    "from sklearn.preprocessing import StandardScaler\n",
    "from sklearn.preprocessing import MinMaxScaler\n",
    "from sklearn.impute import SimpleImputer\n",
    "from sklearn.pipeline import Pipeline\n",
    "from sklearn.metrics import r2_score, explained_variance_score, max_error\n",
    "\n",
    "# Define\n",
    "param_grid = [\n",
    "    {\"sv_rgr__kernel\": [\"linear\", \"rbf\"],\n",
    "    \"sv_rgr__C\": [0.01, 0.1, 1, 10],\n",
    "    \"sv_rgr__epsilon\": [0.01, 0.1, 1]},\n",
    "    {\"sv_rgr__kernel\": [\"poly\"],\n",
    "    \"sv_rgr__degree\": [1, 2, 3, 4, 5, 6, 7],\n",
    "    \"sv_rgr__C\": [0.01, 0.1, 1, 10],\n",
    "    \"sv_rgr__epsilon\": [0.01, 0.1, 1]},\n",
    "]\n",
    "sv_rgr = GridSearchCV(Pipeline([\n",
    "    (\"imputer\", SimpleImputer(missing_values=np.nan, strategy=\"mean\")),\n",
    "    # (\"scaler\", StandardScaler()),\n",
    "    (\"scaler\", StandardScaler()),\n",
    "    (\"sv_rgr\", SVR()),]),\n",
    "    param_grid, cv=10, verbose=1)\n",
    "\n",
    "# Fit\n",
    "sv_rgr.fit(X_train, y_train)\n",
    "# Predict\n",
    "y_pred = sv_rgr.predict(X_test)\n",
    "# Score\n",
    "print(\"R2 Score\")\n",
    "print(r2_score(y_test, y_pred))\n",
    "print(\"Explained Variance Score\")\n",
    "print(explained_variance_score(y_test, y_pred))\n",
    "print(\"Max Error Score\")\n",
    "print(max_error(y_test, y_pred))"
   ]
  }
 ],
 "metadata": {
  "kernelspec": {
   "display_name": "base",
   "language": "python",
   "name": "python3"
  },
  "language_info": {
   "codemirror_mode": {
    "name": "ipython",
    "version": 3
   },
   "file_extension": ".py",
   "mimetype": "text/x-python",
   "name": "python",
   "nbconvert_exporter": "python",
   "pygments_lexer": "ipython3",
   "version": "3.11.4"
  },
  "orig_nbformat": 4
 },
 "nbformat": 4,
 "nbformat_minor": 2
}
